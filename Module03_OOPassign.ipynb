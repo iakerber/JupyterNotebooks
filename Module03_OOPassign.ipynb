{
 "cells": [
  {
   "cell_type": "code",
   "execution_count": 1,
   "id": "84814941-247b-4e6d-ab7c-cfa23789eafe",
   "metadata": {},
   "outputs": [
    {
     "name": "stdout",
     "output_type": "stream",
     "text": [
      "[0, 1, 2, 0, 1, 2]\n",
      "[0, 0, 1, 1, 2, 2]\n"
     ]
    }
   ],
   "source": [
    "#this is my code for the tutorial module 03 assignment through GeeksforGeeks.\n",
    "#I couldn't get this to work in their module, but switched to python shell and I came up with this code\n",
    "#Main strategy is to convert all 0's 1s and 2s into separate lists and then combine into one list.\n",
    "\n",
    "def sort012(arr):\n",
    "    list0 = []\n",
    "    list1 = []\n",
    "    list2 = []\n",
    "    arr = [0, 1, 2, 0, 1, 2]\n",
    "    print(arr)      \n",
    "    \n",
    "    for num in arr:\n",
    "        if num == 0:\n",
    "            list0.append(num)\n",
    "        elif num == 1:\n",
    "            list1.append(num)\n",
    "        elif num == 2:\n",
    "            list2.append(num)\n",
    "\n",
    "    list0.extend(list1)\n",
    "    list0.extend(list2)\n",
    "    print(list0)\n",
    " \n",
    "\n",
    "sort012([0,1,2,0,1,2])"
   ]
  },
  {
   "cell_type": "code",
   "execution_count": 3,
   "id": "6c9d3c18-2e91-4bbb-9650-a39a70fe5f76",
   "metadata": {},
   "outputs": [
    {
     "name": "stdout",
     "output_type": "stream",
     "text": [
      "3\n"
     ]
    }
   ],
   "source": [
    "#This too I could not get to work in the GeeksforGeeks website. Here is simply used the index function\n",
    "#to find the index to k.\n",
    "\n",
    "class Solution:\n",
    "    def binarysearch(arr, k):\n",
    "        arr = [1,2,3,4,5]\n",
    "        k = 4\n",
    "        \n",
    "        position = arr.index(k)\n",
    "        print(position)\n",
    "\n",
    "\n",
    "    binarysearch([], 4)"
   ]
  }
 ],
 "metadata": {
  "kernelspec": {
   "display_name": "Python 3 (ipykernel)",
   "language": "python",
   "name": "python3"
  },
  "language_info": {
   "codemirror_mode": {
    "name": "ipython",
    "version": 3
   },
   "file_extension": ".py",
   "mimetype": "text/x-python",
   "name": "python",
   "nbconvert_exporter": "python",
   "pygments_lexer": "ipython3",
   "version": "3.12.4"
  }
 },
 "nbformat": 4,
 "nbformat_minor": 5
}
