{
 "cells": [
  {
   "cell_type": "markdown",
   "id": "a0467bd2-db2a-494a-a8d9-4bd24edb2d65",
   "metadata": {},
   "source": [
    "3.1. 3600 seconds in an hour."
   ]
  },
  {
   "cell_type": "code",
   "execution_count": 1,
   "id": "5098e56b-8621-40cd-a00a-9c208934f798",
   "metadata": {},
   "outputs": [
    {
     "name": "stdout",
     "output_type": "stream",
     "text": [
      "There are  3600  seconds in an hour\n"
     ]
    }
   ],
   "source": [
    "c = 60 * 60\n",
    "print(\"There are \", c, \" seconds in an hour\")"
   ]
  },
  {
   "cell_type": "code",
   "execution_count": 3,
   "id": "e3750df9-7545-4428-a9dc-bfe91ad45e6d",
   "metadata": {},
   "outputs": [
    {
     "name": "stdout",
     "output_type": "stream",
     "text": [
      "3600\n"
     ]
    }
   ],
   "source": [
    "print(c)"
   ]
  },
  {
   "cell_type": "code",
   "execution_count": 5,
   "id": "420101a6-4228-46d3-aaf4-f4d5b64ef9e7",
   "metadata": {},
   "outputs": [
    {
     "name": "stdout",
     "output_type": "stream",
     "text": [
      "3600\n"
     ]
    }
   ],
   "source": [
    "seconds_per_hour = c\n",
    "print(seconds_per_hour)"
   ]
  },
  {
   "cell_type": "markdown",
   "id": "8fb368fb-e3ee-4211-a0f8-fa9d73cccaf0",
   "metadata": {},
   "source": [
    "3.3. There are 86400 seconds in a day."
   ]
  },
  {
   "cell_type": "code",
   "execution_count": 7,
   "id": "2131c2e5-3163-4c4e-9ee3-6b832c68c772",
   "metadata": {},
   "outputs": [
    {
     "name": "stdout",
     "output_type": "stream",
     "text": [
      "There are  86400  seconds in a day\n"
     ]
    }
   ],
   "source": [
    "d = seconds_per_hour * 24\n",
    "print(\"There are \", d, \" seconds in a day\")"
   ]
  },
  {
   "cell_type": "code",
   "execution_count": 11,
   "id": "34dbc1ea-45be-4b24-bd15-e698858b94c1",
   "metadata": {},
   "outputs": [
    {
     "name": "stdout",
     "output_type": "stream",
     "text": [
      "86400\n"
     ]
    }
   ],
   "source": [
    "seconds_per_day = seconds_per_hour * 24\n",
    "print(seconds_per_day)"
   ]
  },
  {
   "cell_type": "code",
   "execution_count": 13,
   "id": "06b71fb1-421d-4aa9-8ccc-c10902c5a7f8",
   "metadata": {},
   "outputs": [
    {
     "name": "stdout",
     "output_type": "stream",
     "text": [
      "24.0\n"
     ]
    }
   ],
   "source": [
    "e = seconds_per_day / seconds_per_hour\n",
    "print(e)"
   ]
  },
  {
   "cell_type": "code",
   "execution_count": 15,
   "id": "c313667e-952e-4ada-9761-542e703d2633",
   "metadata": {},
   "outputs": [
    {
     "name": "stdout",
     "output_type": "stream",
     "text": [
      "24\n"
     ]
    }
   ],
   "source": [
    "f = seconds_per_day // seconds_per_hour\n",
    "print(f)"
   ]
  },
  {
   "cell_type": "markdown",
   "id": "1b34b6b4-720d-405e-9c8a-71145f5dab43",
   "metadata": {},
   "source": [
    "3.6. Both floating point and integer numbers agreed."
   ]
  }
 ],
 "metadata": {
  "kernelspec": {
   "display_name": "Python 3 (ipykernel)",
   "language": "python",
   "name": "python3"
  },
  "language_info": {
   "codemirror_mode": {
    "name": "ipython",
    "version": 3
   },
   "file_extension": ".py",
   "mimetype": "text/x-python",
   "name": "python",
   "nbconvert_exporter": "python",
   "pygments_lexer": "ipython3",
   "version": "3.12.4"
  }
 },
 "nbformat": 4,
 "nbformat_minor": 5
}
