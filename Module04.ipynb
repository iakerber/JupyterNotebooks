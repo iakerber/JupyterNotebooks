{
 "cells": [
  {
   "cell_type": "markdown",
   "id": "e21ac45c-d197-4e49-8abe-8e1f46801d7d",
   "metadata": {},
   "source": [
    "Chapter 11 - exercises 11.1 and 11.2"
   ]
  },
  {
   "cell_type": "code",
   "execution_count": 1,
   "id": "207bff5a-9cbb-4367-89da-77347cbad39b",
   "metadata": {},
   "outputs": [
    {
     "name": "stdout",
     "output_type": "stream",
     "text": [
      "Open 9-5 daily\n"
     ]
    }
   ],
   "source": [
    "import zoo\n",
    "\n",
    "zoo.hours()"
   ]
  },
  {
   "cell_type": "code",
   "execution_count": 3,
   "id": "4fafb3b0-b69b-4d95-8ec9-f3965008c304",
   "metadata": {},
   "outputs": [
    {
     "name": "stdout",
     "output_type": "stream",
     "text": [
      "Open 9-5 daily\n"
     ]
    }
   ],
   "source": [
    "import zoo as menagerie\n",
    "\n",
    "menagerie.hours()"
   ]
  },
  {
   "cell_type": "markdown",
   "id": "ceab33eb-2f0e-4bc0-bd3e-86d145054057",
   "metadata": {},
   "source": [
    "Chapter 16 - exercise 16.8                                                                                                                                                "
   ]
  },
  {
   "cell_type": "code",
   "execution_count": 5,
   "id": "66f91423-86d5-4d90-aa94-3f587595de14",
   "metadata": {},
   "outputs": [
    {
     "data": {
      "text/plain": [
       "<sqlite3.Cursor at 0x13762a740>"
      ]
     },
     "execution_count": 5,
     "metadata": {},
     "output_type": "execute_result"
    }
   ],
   "source": [
    "import sqlite3\n",
    "conn = sqlite3.connect('books.db')\n",
    "curs = conn.cursor()\n",
    "curs.execute('''CREATE TABLE books \n",
    "(title VARCHAR(20) PRIMARY KEY,\n",
    "author VARCHAR(20),\n",
    "year INT)''')"
   ]
  },
  {
   "cell_type": "code",
   "execution_count": 27,
   "id": "15280f1f-c190-4fad-9562-a020702b8df2",
   "metadata": {},
   "outputs": [],
   "source": [
    "import sqlalchemy as sa\n",
    "from sqlalchemy import select\n",
    "conn = sa.create_engine('sqlite://')"
   ]
  },
  {
   "cell_type": "code",
   "execution_count": 37,
   "id": "c02f820d-2093-41b2-b487-f3b653f127c7",
   "metadata": {},
   "outputs": [
    {
     "ename": "AttributeError",
     "evalue": "'Engine' object has no attribute 'execute'",
     "output_type": "error",
     "traceback": [
      "\u001b[0;31m---------------------------------------------------------------------------\u001b[0m",
      "\u001b[0;31mAttributeError\u001b[0m                            Traceback (most recent call last)",
      "Cell \u001b[0;32mIn[37], line 1\u001b[0m\n\u001b[0;32m----> 1\u001b[0m result \u001b[38;5;241m=\u001b[39m conn\u001b[38;5;241m.\u001b[39mexecute(books\u001b[38;5;241m.\u001b[39mselect())\n",
      "\u001b[0;31mAttributeError\u001b[0m: 'Engine' object has no attribute 'execute'"
     ]
    }
   ],
   "source": [
    "result = conn.execute(books.select())"
   ]
  },
  {
   "cell_type": "markdown",
   "id": "ae395f49-3ea1-4879-81d1-8d1891d4fc83",
   "metadata": {},
   "source": [
    "I am stumped by this attribute error and couldn't find a workable answer online. Error kept repeating no matter what I tried."
   ]
  }
 ],
 "metadata": {
  "kernelspec": {
   "display_name": "Python 3 (ipykernel)",
   "language": "python",
   "name": "python3"
  },
  "language_info": {
   "codemirror_mode": {
    "name": "ipython",
    "version": 3
   },
   "file_extension": ".py",
   "mimetype": "text/x-python",
   "name": "python",
   "nbconvert_exporter": "python",
   "pygments_lexer": "ipython3",
   "version": "3.12.4"
  }
 },
 "nbformat": 4,
 "nbformat_minor": 5
}
