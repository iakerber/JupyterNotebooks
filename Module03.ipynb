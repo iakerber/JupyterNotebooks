{
 "cells": [
  {
   "cell_type": "markdown",
   "id": "d8f87736-2c8a-478c-b323-8cbc285d442c",
   "metadata": {},
   "source": [
    "Chapter 7 - exercises 7.4 - 7.7"
   ]
  },
  {
   "cell_type": "code",
   "execution_count": 1,
   "id": "e1dee6b7-0db5-4ef5-b057-88986d9ab190",
   "metadata": {},
   "outputs": [
    {
     "name": "stdout",
     "output_type": "stream",
     "text": [
      "['mozzarella', 'cinderella', 'salmonella']\n"
     ]
    }
   ],
   "source": [
    "things = ['mozzarella', 'cinderella', 'salmonella']\n",
    "print(things)"
   ]
  },
  {
   "cell_type": "code",
   "execution_count": 3,
   "id": "b2510b18-e9fb-4ad0-9427-fcea86b32e92",
   "metadata": {},
   "outputs": [
    {
     "name": "stdout",
     "output_type": "stream",
     "text": [
      "['mozarella', 'Cinderella', 'salmonella']\n"
     ]
    }
   ],
   "source": [
    "things = ['mozarella', 'Cinderella', 'salmonella']\n",
    "print(things)"
   ]
  },
  {
   "cell_type": "markdown",
   "id": "08809f4f-a8c0-4341-bd9a-ad74d10eb191",
   "metadata": {},
   "source": [
    "Capitalizing the element changed the element in the list."
   ]
  },
  {
   "cell_type": "code",
   "execution_count": 5,
   "id": "6d2445c0-820a-4328-83c9-19ef51da0831",
   "metadata": {},
   "outputs": [
    {
     "name": "stdout",
     "output_type": "stream",
     "text": [
      "['MOZARELLA', 'Cinderella', 'salmonella']\n"
     ]
    }
   ],
   "source": [
    "things = ['MOZARELLA', 'Cinderella', 'salmonella']\n",
    "print(things)"
   ]
  },
  {
   "cell_type": "code",
   "execution_count": 7,
   "id": "822b8768-23f4-4eab-9003-d792eb3cf280",
   "metadata": {},
   "outputs": [
    {
     "name": "stdout",
     "output_type": "stream",
     "text": [
      "['MOZARELLA', 'Cinderella']\n"
     ]
    }
   ],
   "source": [
    "things.remove('salmonella')\n",
    "print(things)"
   ]
  },
  {
   "cell_type": "markdown",
   "id": "22404cda-de89-4d1e-b87e-f168474f6ba8",
   "metadata": {},
   "source": [
    "Chapter 9 - exercises 9.1 & 9.2"
   ]
  },
  {
   "cell_type": "code",
   "execution_count": 9,
   "id": "261df7d9-86bf-4d34-93e9-5869ed23b56a",
   "metadata": {},
   "outputs": [
    {
     "name": "stdout",
     "output_type": "stream",
     "text": [
      "['Harry', 'Ron', 'Hermione']\n"
     ]
    }
   ],
   "source": [
    "def good():\n",
    "    print(\"['Harry', 'Ron', 'Hermione']\")\n",
    "\n",
    "good()"
   ]
  },
  {
   "cell_type": "code",
   "execution_count": 19,
   "id": "11c4da75-eac3-4ee7-970b-6e7b7969f061",
   "metadata": {},
   "outputs": [
    {
     "name": "stdout",
     "output_type": "stream",
     "text": [
      "5\n"
     ]
    }
   ],
   "source": [
    "def get_odds():\n",
    "    \n",
    "    for num in range(10):\n",
    "        if num % 2!= 0:\n",
    "            yield num\n",
    "\n",
    "\n",
    "for i, value in enumerate(get_odds()):\n",
    "    if i == 2:\n",
    "        print(value)"
   ]
  }
 ],
 "metadata": {
  "kernelspec": {
   "display_name": "Python 3 (ipykernel)",
   "language": "python",
   "name": "python3"
  },
  "language_info": {
   "codemirror_mode": {
    "name": "ipython",
    "version": 3
   },
   "file_extension": ".py",
   "mimetype": "text/x-python",
   "name": "python",
   "nbconvert_exporter": "python",
   "pygments_lexer": "ipython3",
   "version": "3.12.4"
  }
 },
 "nbformat": 4,
 "nbformat_minor": 5
}
