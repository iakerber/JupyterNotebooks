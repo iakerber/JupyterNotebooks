{
 "cells": [
  {
   "cell_type": "markdown",
   "id": "9850f76d-6a92-44c4-9549-5ab118e13c56",
   "metadata": {},
   "source": [
    "Module 06 - Chapter 13 - exercises 1-3"
   ]
  },
  {
   "cell_type": "code",
   "execution_count": 5,
   "id": "5a1c81a0-aea9-4ce3-b34a-790d0fe93a64",
   "metadata": {},
   "outputs": [
    {
     "name": "stdout",
     "output_type": "stream",
     "text": [
      "2024-11-29\n"
     ]
    }
   ],
   "source": [
    "from datetime import date\n",
    "\n",
    "today = date.today()\n",
    "current_date = today.strftime(\"%Y-%m-%d\")\n",
    "\n",
    "fout = open('today.txt', 'wt')\n",
    "fout.write(current_date)\n",
    "\n",
    "fout.close()\n",
    "\n",
    "fin = open('today.txt', 'rt')\n",
    "date_string = fin.read()\n",
    "fin.close()\n",
    "\n",
    "print(date_string)\n",
    "\n"
   ]
  },
  {
   "cell_type": "markdown",
   "id": "459941f9-2a56-4b53-8b00-bfd68ed7a534",
   "metadata": {},
   "source": [
    "Module 06 - Chapter 15 - exercise 1"
   ]
  },
  {
   "cell_type": "code",
   "execution_count": 50,
   "id": "a8900962-c718-409f-a095-9da47f2853af",
   "metadata": {},
   "outputs": [
    {
     "name": "stdout",
     "output_type": "stream",
     "text": [
      "I am Ilze, in process 1972\n",
      "14:32:04\n"
     ]
    },
    {
     "name": "stderr",
     "output_type": "stream",
     "text": [
      "Traceback (most recent call last):\n",
      "  File \"<string>\", line 1, in <module>\n",
      "  File \"/opt/anaconda3/lib/python3.12/multiprocessing/spawn.py\", line 122, in spawn_main\n",
      "    exitcode = _main(fd, parent_sentinel)\n",
      "               ^^^^^^^^^^^^^^^^^^^^^^^^^^\n",
      "  File \"/opt/anaconda3/lib/python3.12/multiprocessing/spawn.py\", line 132, in _main\n",
      "    self = reduction.pickle.load(from_parent)\n",
      "           ^^^^^^^^^^^^^^^^^^^^^^^^^^^^^^^^^^\n",
      "AttributeError: Can't get attribute 'crazy' on <module '__main__' (<class '_frozen_importlib.BuiltinImporter'>)>\n"
     ]
    }
   ],
   "source": [
    "import multiprocessing\n",
    "import time\n",
    "import os\n",
    "import time\n",
    "import datetime\n",
    "\n",
    "def my_name(name):\n",
    "    print(\"I am %s, in process %s\" % (name, os.getpid()))\n",
    "    present_time = datetime.datetime.now()\n",
    "    time_string = present_time.strftime(\"%H:%M:%S\")\n",
    "    print(time_string)\n",
    "\n",
    "def crazy(name):\n",
    "    my_name(name)\n",
    "    start = 1\n",
    "    stop = 100\n",
    "    for num in range(start, stop):\n",
    "        print(\"\\tNumber %s of %s. Hi there!\" % (num, stop))\n",
    "        present_time = datetime.datetime.now()\n",
    "        time_string = present_time.strftime(\"%H:%M:%S\")\n",
    "        print(time_string)\n",
    "        time.sleep(1)\n",
    "\n",
    "if __name__ == \"__main__\":\n",
    "    my_name(\"Ilze\")\n",
    "    p = multiprocessing.Process(target=crazy, args=(\"crazy\",))\n",
    "    p.start()\n",
    "    time.sleep(5)\n",
    "    p.terminate()"
   ]
  },
  {
   "cell_type": "markdown",
   "id": "9629f58f-1553-4131-8d6d-d90cb373fa54",
   "metadata": {},
   "source": [
    "I can't seem to get multiprocessing to work. I tried various things, and worked in different IDE as well, but am stumped. I have to move on for now and return to this later. At least I got function 'my_name' to work, though that has nothing to do with multiprocessing."
   ]
  },
  {
   "cell_type": "code",
   "execution_count": null,
   "id": "b7a61ec2-220b-42f0-93d2-064d979e9f4e",
   "metadata": {},
   "outputs": [],
   "source": []
  }
 ],
 "metadata": {
  "kernelspec": {
   "display_name": "Python 3 (ipykernel)",
   "language": "python",
   "name": "python3"
  },
  "language_info": {
   "codemirror_mode": {
    "name": "ipython",
    "version": 3
   },
   "file_extension": ".py",
   "mimetype": "text/x-python",
   "name": "python",
   "nbconvert_exporter": "python",
   "pygments_lexer": "ipython3",
   "version": "3.12.4"
  }
 },
 "nbformat": 4,
 "nbformat_minor": 5
}
