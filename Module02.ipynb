{
 "cells": [
  {
   "cell_type": "markdown",
   "id": "21ed18b9-64df-4ea2-af2f-099a00e7352a",
   "metadata": {},
   "source": [
    "Chapter 4 - 4.1 and 4.2"
   ]
  },
  {
   "cell_type": "code",
   "execution_count": 1,
   "id": "bd6e7701-991c-41ef-8944-8bc21da517f7",
   "metadata": {},
   "outputs": [
    {
     "name": "stdout",
     "output_type": "stream",
     "text": [
      "too low\n"
     ]
    }
   ],
   "source": [
    "secret = 9\n",
    "guess = 3\n",
    "if guess < secret:\n",
    "    print('too low')\n",
    "elif guess > secret:\n",
    "    print('too high')\n",
    "else:\n",
    "    print('just right')"
   ]
  },
  {
   "cell_type": "code",
   "execution_count": 5,
   "id": "b6cc8190-0566-4450-9740-3dda6285bfe5",
   "metadata": {},
   "outputs": [
    {
     "name": "stdout",
     "output_type": "stream",
     "text": [
      "pea is small and green\n"
     ]
    }
   ],
   "source": [
    "small = True\n",
    "green = True\n",
    "if small and green == True:\n",
    "    print('pea' + ' is small and green')\n",
    "else:\n",
    "    print('cherry or watermelon or pumpkin' + ' is not small and green')"
   ]
  },
  {
   "cell_type": "markdown",
   "id": "66980e55-5d46-42e7-8d40-08562fbfef9c",
   "metadata": {},
   "source": [
    "Chapter 6 - 6.1, 6.2, 6.3"
   ]
  },
  {
   "cell_type": "code",
   "execution_count": 7,
   "id": "1111864c-d657-4671-a482-d1d32851eeb6",
   "metadata": {},
   "outputs": [
    {
     "name": "stdout",
     "output_type": "stream",
     "text": [
      "3\n",
      "2\n",
      "1\n",
      "0\n"
     ]
    }
   ],
   "source": [
    "list = [3, 2, 1, 0]\n",
    "for value in list:\n",
    "    print(value)"
   ]
  },
  {
   "cell_type": "code",
   "execution_count": 17,
   "id": "f18cbaba-533f-47c5-9cec-f6d9b29aaa20",
   "metadata": {},
   "outputs": [
    {
     "name": "stdout",
     "output_type": "stream",
     "text": [
      "1  is too low\n",
      "2  is too low\n",
      "3  is too low\n",
      "4  is too low\n",
      "5  is too low\n",
      "6  is too low\n",
      "found it!\n"
     ]
    }
   ],
   "source": [
    "guess_me = 7\n",
    "number = 1\n",
    "while number < 10:\n",
    "    if number < guess_me:\n",
    "        print(number,' is too low')\n",
    "    elif number == guess_me:\n",
    "        print('found it!')\n",
    "        break\n",
    "    else:\n",
    "        print('oops')\n",
    "        break\n",
    "    number += 1\n",
    "    "
   ]
  },
  {
   "cell_type": "code",
   "execution_count": 19,
   "id": "3026e821-34cf-4459-9fc3-53b202597827",
   "metadata": {},
   "outputs": [
    {
     "name": "stdout",
     "output_type": "stream",
     "text": [
      "too low\n",
      "too low\n",
      "too low\n",
      "too low\n",
      "too low\n",
      "found it!\n"
     ]
    }
   ],
   "source": [
    "guess_me = 5\n",
    "for number in range(0,11):\n",
    "    if number < guess_me:\n",
    "        print('too low')\n",
    "    elif number == guess_me:\n",
    "        print('found it!')\n",
    "        break\n",
    "    else:\n",
    "        print('oops')\n",
    "        break\n",
    "    "
   ]
  }
 ],
 "metadata": {
  "kernelspec": {
   "display_name": "Python 3 (ipykernel)",
   "language": "python",
   "name": "python3"
  },
  "language_info": {
   "codemirror_mode": {
    "name": "ipython",
    "version": 3
   },
   "file_extension": ".py",
   "mimetype": "text/x-python",
   "name": "python",
   "nbconvert_exporter": "python",
   "pygments_lexer": "ipython3",
   "version": "3.12.4"
  }
 },
 "nbformat": 4,
 "nbformat_minor": 5
}
